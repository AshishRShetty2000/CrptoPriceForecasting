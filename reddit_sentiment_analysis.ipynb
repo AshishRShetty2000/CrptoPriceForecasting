{
 "cells": [
  {
   "cell_type": "code",
   "execution_count": 42,
   "id": "cdd24379",
   "metadata": {},
   "outputs": [],
   "source": [
    "import praw\n",
    "import re\n",
    "import numpy as np"
   ]
  },
  {
   "cell_type": "code",
   "execution_count": 9,
   "id": "f3d450c4",
   "metadata": {},
   "outputs": [],
   "source": [
    "\n",
    "\n",
    "# Initialize the Reddit client\n",
    "reddit = praw.Reddit(\n",
    "    client_id=\"h1oT9ECrvYgR8oipbCwXRg\",\n",
    "    client_secret=\"wq3QJIj0mcSB9TAIspKMG7pXTbhpLQ\",\n",
    "    user_agent=\"isreal_data\"\n",
    ")\n"
   ]
  },
  {
   "cell_type": "code",
   "execution_count": 10,
   "id": "362bd146",
   "metadata": {},
   "outputs": [],
   "source": [
    "def clean_text(text):\n",
    "    # Remove URLs\n",
    "    \n",
    "    text = re.sub(r'http\\S+|www\\S+|https\\S+', '', text, flags=re.MULTILINE)\n",
    "    text = re.sub(r'\\n\\n.+?\\n\\n','', text, flags=re.MULTILINE)\n",
    "    # Remove special characters (keeping only letters, numbers, and basic punctuation)\n",
    "    text = re.sub(r'[^A-Za-z0-9\\s,.\\'\"]+', ' ', text)\n",
    "    text = re.sub(r'\\n',' ', text)\n",
    "    text = re.sub(r'n\\'t',' not', text)\n",
    "    text = re.sub(r'\\'m', ' am', text)\n",
    "    text = re.sub(r'\\'s',' is', text)\n",
    "    text = re.sub(r'[\".,\\']+', '', text)\n",
    "    text = \" \".join(text.split())\n",
    "    text = text.lower()\n",
    "    return text"
   ]
  },
  {
   "cell_type": "code",
   "execution_count": 16,
   "id": "7803faa0",
   "metadata": {},
   "outputs": [
    {
     "name": "stdout",
     "output_type": "stream",
     "text": [
      "ancient bitcoin wallet comes alive after lying low for over 13 years moves 3670000 in btc at 646618 profit the daily hodl\n",
      "gary gensler releases statement suggesting he is leaving the sec\n",
      "luckiest trader ever from 16 to 3 million in 2 weeks on a meme coin decrypt\n",
      "michael saylor doubts bitcoin will dip below 60k predicts 100k milestone by 2025\n",
      "pennsylvania house introduces bill to implement a strategic bitcoin reserve\n",
      "senator lummis proposal for bitcoin act sell fed s gold as btc overtakes silver\n",
      "tax free crypto in us donald trump s plan to eliminate tax for xrp ada and more bullish\n",
      "dot feels like it s been abandoned does anyone here think it s strange that one of the co founders of eth one of the best coins out there the guy who made dot made such a shitty coin it honestly made it even worse when i saw vitalik buterin s portfolio and he doesn t even have a single dot coin even meme coins see more action than dot\n",
      "goldman sachs holds 461 million in blackrock is ibit new filing reveals\n",
      "fed chair jerome powell is hawkish comments throw some cold water on crypto\n",
      "goldman sachs increases bitcoin etf holdings by 71 amid shift in investment strategy\n",
      "bitcoin flippened silver and saudi aramco are google and amazon next\n",
      "the media were all over ftx losing 8 billion not much mention of the crypto market up 2 trillion since at the time of the ftx collapse reports were around 89b of customers funds had gone missing the demise of ftx was covered literally everywhere making headlines around the world all the outlets that you never see any coverage on crypto on were out in force like many my phone blew up wow just heard bitcoin died man so sorry to hear about the death of crypto etc etc at the time my reply was this is all a storm in a teacup which will blow over with time much the same as mt gox china fud etc etc there is actually been worst times to get on board like most cycles most did not care however it is still important to remember that shit will continue to happen that these early boom bust adoption cycles are a feature and will continue to occur for the foreseeable when crypto winters hit and crypto gets boring these are the greatest times to dca tl dr shit will always happen booms bust adoption cycles are a feature keep calm and carry on stacking harvest those crypto winters fuck the mainstream media\n",
      "investigator coffeezilla probes mrbeast over crypto controversy\n",
      "pepe billboard spotted nyc times square\n",
      "nervos bitcoin layer 2 to be released on mainnet next month having recently released the rgb protocol a bridgeless isomorphic layer 2 for bitcoin this year which garnered significant attention and controversy from many crypto communities cell studios from nervos network is set to release another additional development for the bitcoin layer 2 narrative the fiber networkby building off chain channels on nervos ckb fiber network aims to combine the successful experience of the lightning network with ckb is technical advantages to create a fast low cost and decentralized multi asset real time payment network specifically 1 solving scalability issues through off chain payment channels and multi hop routing fiber network can achieve high throughput transaction processing meeting the needs of large scale users 2 reducing transaction costs by reducing the frequency of on chain transactions it lowers transaction fees making micropayments feasible and efficient 3 improving transaction speed the instant confirmation of off chain transactions provides a split second payment confirmation experience suitable for various instant payment scenarios 4 multi asset support fiber network supports payments in a variety of digital assets offering users a broader range of payment options 5 interoperability fiber network supports interoperability with the bitcoin lightning network providing support for cross chain payments and asset transfers introduction to rgb rgb addresses the technical challenges faced by the original rgb protocol in practical implementation and provides more possibilities such as blockchain enhanced client validation transaction folding shared states with ownerless contracts and non interactive transfers it brings turing complete contract extensions and performance enhancements to bitcoin without the need for cross chain transfers or compromising securitylead developer fiber network website rgb white paper nervos network coupled with rgb a new bridgeless isomorphic layer 2 for bitcoin could potentially make nervos a big player in the bitcoin layer 2 narrative this cycle\n",
      "daily crypto discussion november 15 2024 gmt 0 welcome to the daily crypto discussion thread please read the disclaimer and rules before participating nbsp disclaimer please be careful about what information you share and the actions you take do not share the amounts of your portfolios why not just share percentage do not share your private keys or wallet seed use strong non sms 2fa if possible beware of scammers and be smart do not invest more than you can afford to lose and do not fall for pyramid schemes promises of unrealistic returns get rich quick schemes and other common scams nbsp rules all sub rules apply in this thread the prior exemption for karma and age requirements is no longer in effect discussion topics must be related to cryptocurrency behave with civility and politeness do not use offensive racist or homophobic language comments will be sorted by newest first nbsp beginner resources moons wiki page r cryptocurrencymemes r cryptocurrencymeta join in on all meta discussions regarding r cryptocurrency whether it be moon distributions or governance nbsp follow a mod account below to be notified in your home feed when the latest r cc discussion thread of your interest is posted u cryptoskeptics posts the monthly skeptics discussion threads u cryptooptimists posts the monthly optimists discussion threads u cryptonewsupdates posts the monthly news summary threads\n",
      "psa not your keys not your coins a hard learned lesson just wanted to drop a friendly reminder that hits close to home not your keys not your coins is not just some catchphrase it is real advice that i really wish id taken seriously before losing money in the ftx collapse exchanges can freeze your assets they can get hacked they can go bankrupt thanks ftx 1 get a hardware wallet 2 learn how to use it properly 3 keep your seed phrase secure not on your phone computer 4 only keep trading amounts on exchanges i learned this lesson the expensive way in 2022 and i am feeling like this advice needs to be repeated now that the next bull is coming do not be like me protect your coins the small inconvenience of self custody is nothing compared to the pit in your stomach when you realize your exchange account is frozen and your funds are gone\n",
      "the rcryptocurrency moon week 54 moon burn update and a 2024 milestone welcome to the moon burn update for moon week 54 in this post well take a look at all moon burns between october 14th and november 11th and reveal a special milestone with the community for moons burns so far in 2021 earning moons for participation on the sub yes distributions are back voting on community governance for the sub burning moons for a special membership approved entities can burn moons to engage on the sub in the form of events amas others off chain earned moons can be tipped to other redditors on as an appreciation for their help or contributions on reddit let is talk moon burns between october 14th and november 11th 10527 moons were burned on arbitrum nova in four unique burn events 32335 moons were burned on arbitrum one fourteen unique burn events the total number of moons burned between both chains over the 28 day period is 42862 moonsdespite being new to arbitrum one moons are the 12th most valuable asset in the dead address on arbitrum one with almost 80k moons currently worth over 11635 having been burned on arbitrum one so far unlike almost every other asset in the arbitrum one burn address no moons were ever minted for the purpose of being sent to the dead walleton arbitrum nova moons remain the number 1 asset is the dead address with 2718m moons having been burned currently worth 392k 2024 moon burn milestone at the start of the year 80293585 moons were in circulation excluding the burn address as of today a total of 812771 moons have been sent to the burn address so far in 2024 making our current circulating supply of moons 79480814 important note if you purchase a special membership and are not able to activate it send a message to mod mail so we can troubleshoot any issues and make sure you get to use it\n",
      "investors withdraw appeal in dogecoin case against elon musk\n",
      "central bankers are getting jealous\n",
      "franklin templeton expands 410 million money market fund to ethereum blockchain\n",
      "shoutout to ronchon who called the bottom back in 2022\n",
      "digital chamber urges us to lift crypto ban for federal employees\n",
      "plans to eliminate capital gains taxes on cryptocurrencies issued by us registered companies\n",
      "meme coins take 2024 by storm sector explodes with 93 billion growth\n",
      "help me understand to be honest i have been a crypto skeptic for a long time when i look at things like bitcoin having a 18 trillion market cap i just ca not make it make sense that half of nvidia larger than a lot of companies that actually produce goods and real technologies that people use on a daily basis i do not know anyone that actually uses bitcoin or any other crypto on a daily basis i understand it has some cool technology well to be honest i probably do not understand i do at this point want to understand though where do i start is there a good you tube channel to watch to really try to understand all of this i would need crypto for a 5 year old approach i am not very tech savvy i grew up outside i do not really even know how to use excel lol i do feel i need to try to understand what is going on with crypto i want to start investing however i am hesitant because at this point it does not look like steady long term investing strategy to me it looks like a couple of massive bull runs with absolute nothing in between will this change at some point will people ever actually use crypto on a daily basis i do see how these technologies are the way of the future but actually trying to figure out which ones are going to be the go to tech seems impossible at this point bitcoin has the largest market cap but it seems like there may be newer cryptos with better tech that could actually be more usable\n",
      "don t be delusional decentralization doesn t compensate for regulation\n",
      "attorney general hilgers co leads 18 state coalition fighting crypto regulatory overreach\n",
      "scam on binance hey guys i just wanna warn you i got two text messages one the other day with a verification number one just now about linking something to my account both appeared as binance same as where i had my verification code before i called the number but it was unavailable so i reported it to the customer service and they said their contact was intercepted that is worrying someone can send you an sms that says binance and it is actually not be aware\n",
      "crypto assets catch institutional attention as 72 show willingness to invest survey reveals\n",
      "doj investigates polymarket over alleged us user participation\n",
      "razzlekhan is husband gets five years prison sentence for bitfinex hack\n",
      "stablecoin volumes now rival visa in transaction volume\n",
      "tether launches tokenization platform called hadron for institutions governments\n",
      "the rise of ai agents in crypto challenges and opportunities this week we witnessed a significant evolution in the world of ai agents particularly in the crypto space the post goat era is now unfolding and with it comes the rise of projects like ai16z and zerebro which showcase groundbreaking advancements in ai capabilities these developments are reminiscent of the defi summer in 2020 a transformative period of rapid innovation and excitementthe evolution of ai agentsshortly after zerebro emerged featuring near sentient interactions that captivated the crypto community its success was reflected in its token s meteoric rise reaching a market cap of over 150 millionunderstanding model collapse a degenerative process affecting generative ai models where training on recursively generated data leads to a loss of fidelity to the original data distribution as ai generated content becomes pervasive subsequent generations of models trained on this data begin to lose information about the tails of the original distribution eventually converging to a narrow approximation with reduced variance this loss of novelty undermines the agent s reliability for tasks like content creation community engagement and nuanced decision making without addressing this issue the vision of ai agents as hyper efficient teammates falls apartto prevent model collapse and ensure long term utility two critical capabilities must be prioritized 1 memory ai agents need the ability to retain and recall relevant information over time this memory allows them to build a knowledge base that grows richer and more nuanced with experience 2 search the world is constantly changing and ai agents must adapt effective search capabilities enable agents to retrieve and incorporate up to date information ensuring their actions remain relevant and informedenter fiji a new hope fiji s proprietary model focuses on solving memory and search challenges enabling near sentient conversational abilities with streaming capabilities on the horizon fiji is poised to deliver an ai agent that not only captivates users but also evolves over time to meet their needsfinal thoughtsas we look ahead projects like fiji demonstrate the importance of adaptability memory and search in shaping the next generation of ai agents whether we re witnessing the dawn of a new era or the peak of another hype cycle one thing is clear the future of ai in crypto is one to watch closely what do you think about the rise of ai agents are they the next big thing or just another passing trend let s discuss\n",
      "kraken pro interface off contest kraken is offering a prize to the top 3 in this contest closing november 29 see the rules in they blog post i think it could be useful to learn from others setups for trading and maybe find something to help each other be better traders\n",
      "yield curve inversions so it is pretty common knowledge that when the yield curve inverts it is bad when the yield curve un inverts a recession has followed 100 of the timehere it is in short average market top is 101 days after un inversion we are at 78 days average market top is only 14 days after un inversion it should un invert next week i always tell people who are holding for years to ignore my posts i trade i am totally cool with you guys holding and i think it is a good strategy tldr the yield curves tell us we are only weeks away from a market top\n",
      "three arrows capital liquidators seek to mark up claim against ftx to 15 billion\n",
      "best off ramps for the next year as this bull run excitement builds i have deeply planned my sale strategy but am just starting to think about optimizing sale fees via platforms used of course the differences here are tiny in compared to the gains we are seeing so this should almost never inform timing or amount of sales but if i can save 1 that would still be great coinbase one removes fees for the first 10k usd each month but still takes spread there is a free trial 30 per month or 60 for the year this seems great if you are hitting this cap as it seems to save 180 per 10k are there other platforms that offer something like this or better i suppose dex fees of around 03 would be a good bit lower than major exchange fees but that is only really relevant in excess of 10k per month if you use coinbase one hopefully some of this information is helpful and please let me know where i am missing opportunities here thanks\n",
      "investors are desperate for opportunities will nfts be back hello fellow moneymakers now that almost everything but moons is really pumping people will be looking for new investment opportunities nfts they are damn cheap right now and nobody wants to buy them will we look back and think damn why did not i buy an ape jpg cheers everyone have fun with the charts enjoy it while it lasts\n",
      "no video game tied rcc yet hello everyone lurking on reddit ive saw that no man s sky have created their own in game economies and marketplaces where players can trade items and resources freely this got me thinking why hasn t it been integrated directly in one of the most active nms place the nms subredit the rcc ecosystem thrives on shared collectibles and community engagement games seems to have both thanks\n",
      "portal ventures raises 75 million fund to invest in pre seed crypto startups amid bump in venture financing\n",
      "dexch best way to swap crypto without kyc i am trying to do some research on this topic but there doesn t seem to be a comprehensive and up to date list available the ones i ve come across so far are outdated or no longer relevant essentially i m looking for dexs with low trading fees for obvious reasons i don t have a preference for any specific blockchain and i m not interested in trading obscure tokens i ll stick to mid tier coins like matic rsr link etc centralized exchanges are okay but i d like to move away from them for privacy reasons any advice would be greatly appreciated\n",
      "binance bracket orders in tradingview hello everyone if you are using tv you probable are familiar with bracket orders where you are putting sl and tp in miliseconds just drag and drop i am using this tool in cfd markets with tv and like to do the same with binance futures but it seems like they do not support it currently i am working on a new 10sec timeframe scalp strategy and would like to use this i know mexc and some other exchanges support this but id like to stick to binance due to volumes is there suggestion another platform or a script in tv some hotkey magic etc\n",
      "consensys decentralized infura launches as eigenlayer avs\n",
      "arbius v4 launches on arbitrum mainnet starting decentralization for autonomous ai\n",
      "do vpns really matter i bought 50 of sol on cryptocom from my phone app created and transferred to phantom and then connected phantom into photon platform to buy a meme coin my friend said would 50x bc it was on its way to binance it didn t lost it all lol i know i m an idiot it s also still not clear to me if the ip is posted on the blockchain i know i m an idiot lol all this to say does it even matter in 2024 when my data has probably been sold thousands of times and if i do this again or decide to buy bitcoin from cryptocom should i use a vpn\n",
      "solana powers 89 of new token launches as memecoin craze continues to fuel network activity\n",
      "dydx v4 v5 i have seen some posts about people that have been blocked from dydx for using a vpni am in the us and want to trade perpetuals i am sick of the market closing on the weekends and for 1 hour each day wondering if i should migrate my funds to dydx so i can trade without the worry of being locked into a position over the weekend or exiting a position early and missing out on profits that could have been made on the weekendedit also any information on how you track your trades automatically if you are watching a chain if so what events are you looking for or if there is another way suck as graphql on thegraph for uniswap v2 v3 just info on getting the info for tracking trades for tax purposes\n",
      "are there even any coins in the top 200 that are not gonna pump most coins typically pump in a bullmarket more or less so the question is are there any coins you can see that could do bad or under perform significantly weve seen in past bullruns that even really bad tech bad tokenomics bad projects and useless projects can have huge pumps with the rest of the market and do really wellbut are there any coins that could vastly underperform for a big chunk of the bull market in the bullrun of 2021 we only had a few top market cap crypto that ran into problems and vastly underperformedit go listed on coinbase and skyrocketed to over 700 to an insane market cap in a matter of minutes but then tanked through the entire bullrunbitcoin bsv had a big pump at the beginning of the bullrun and then crashed prematurely and never recovered in a quick pump and dump it had a series of crises and then started to get delistedit is not always for obvious reasons and more for bad circumstances making it a little harder to predictsince it seems to be linked to some nasty surprises more than anything it is very hard to predictthis does not mean the top 100 is immuneyou already have tokens for questionable exchanges like gateioi think there will always be a couple of coins that no one expected would perform that badly that will run into an unexpected crisis despite being big projects\n",
      "from real estate and stocks former premier league player is new found love of bitcoin\n",
      "solana is daily fees and revenue hit ath amid heightened engagement\n",
      "i randomly have 621 of optimism coin in my wallet is this a scam i have no idea how i have this coin 0x4200000000000000000000000000000000000042btw uniswap says i do not have enough eth to swap when i have like 150 dollars worth anyone know why\n",
      "how might someone buy crypto in a highly restricted environment so let s imagine a purely hypothetical scenario say someone is new to crypto but is in a situation where they re considering moving assets out of a country with strict regulations on cryptocurrency in this hypothetical case there are no local atms or peer to peer options like localbitcoins available declaring any purchase might mean risking asset seizure or facing heavy taxation potentially over 50 hypothetically speaking if anyone has ideas or suggestions feel free to share your thoughts or pm hypothetically of course for privacy tips\n",
      "how to easily or automatically reinvest your profit back into crypto i m still relatively inexperienced in crypto but as things start to pick up a bit for it here in the us i m wondering if there s an easy or maybe even automatic way to reinvest my profits back into crypto do coinbase or other wallets have ways of automatically doing this so i just set it up and maybe go in every once in awhile to reallocate to different coins or different percentages to different coins thanks sorry if this is a relatively simple question\n",
      "lets take a moment to step back and look at the bright side\n",
      "most positive news this year gensler issued the statement on thursday following the practicing law institute is annual institute on securities regulationif true gensler is potential resignation may have been fueled by factors such as trump is victory in the recent us presidential election the president elect had vowed to fire gensler during his campaigns\n",
      "what s the deal with kaspa ive been exploring kaspa coin and am curious to hear what you all think about it from its technology to its market potential how does kaspa stack up against other cryptos is it a game changer with its unique features or just another project in the crypto space id love to get your opinions on its strengths weaknesses and overall viability are there any specific aspects or recent developments that stand out how does it compare to other projects and other l1s share your insights and let is dive into a discussion\n",
      "what the hell is going on with meme coins this cycle since january 1st the amount of memecoins in the top 100 have shot up from 3 to 15 i want to be completely clear this post is not suggesting anyone buy or gamble on memecoins for every successful memecoin there are tens of thousands if not more memecoins that launch and slowly go to 0 or end in a straight rugas of january 1st 2024 there were a total of 3 memecoins in the top 100in may 2024 that number was up to 7 meme coins that were in the top 100as of tonight there are a total of 15 meme coins that are in the top 100 so the question becomes what the hell is going on with memecoins this cycle seriously two of these memecoins in the top 100 were launched days ago and are already being listed on binance and as a result are in the top 100 by marketcap so obviously there is some cex lead hype and possible manipulation but is there more going on with this trend maybe moons should just embrace their memeish name and well all be rich\n",
      "two years ago btc will make it but might be a long winter well the winter is definitely over btc will make it but might be a long winter\n",
      "you should burn your useless shit coins it is better than hoarding or trying to sell them depending on which country you live in you can claim losses on tax as capital losses which can offset capital gainsso i decided to just burn them all which counts as a capital loss it is better than trading for nothing this was the cheaper option i am already over 10k in capital losses but at least i can carry those forward in the future for when i hopefully make some capital gains\n",
      "how safe are my cryptos in an exchange like coin hako how safe are exchanges like coinhako some questions is it a good idea to get a cold wallet and split the code between my wife mum for if something happens to me thanks guys\n"
     ]
    }
   ],
   "source": [
    "# Specify the subreddit you want to pull data from\n",
    "subreddit = reddit.subreddit(\"CryptoCurrency\")\n",
    "post_lst = []\n",
    "# Retrieve the top 10 posts in the subreddit\n",
    "for post in subreddit.top(time_filter=\"day\", limit=100):  # Can use .new(), .top(), etc.\n",
    "    text = post.title + \" \" + post.selftext\n",
    "    text = clean_text(text)\n",
    "    post_lst.append(text)\n",
    "    print(text)"
   ]
  },
  {
   "cell_type": "code",
   "execution_count": null,
   "id": "46924e80",
   "metadata": {},
   "outputs": [],
   "source": []
  },
  {
   "cell_type": "code",
   "execution_count": 12,
   "id": "d2734527",
   "metadata": {},
   "outputs": [
    {
     "name": "stderr",
     "output_type": "stream",
     "text": [
      "C:\\Users\\bibek\\anaconda3\\Lib\\site-packages\\transformers\\utils\\generic.py:260: UserWarning: torch.utils._pytree._register_pytree_node is deprecated. Please use torch.utils._pytree.register_pytree_node instead.\n",
      "  torch.utils._pytree._register_pytree_node(\n"
     ]
    }
   ],
   "source": [
    "from transformers import BertTokenizer, BertModel\n",
    "import torch"
   ]
  },
  {
   "cell_type": "code",
   "execution_count": 13,
   "id": "008e33ec",
   "metadata": {},
   "outputs": [],
   "source": [
    "tokenizer = BertTokenizer.from_pretrained(\"bert-base-uncased\")\n",
    "model = BertModel.from_pretrained(\"bert-base-uncased\")"
   ]
  },
  {
   "cell_type": "code",
   "execution_count": 18,
   "id": "4f792dd7",
   "metadata": {},
   "outputs": [],
   "source": [
    "\n",
    "# Extract embeddings in batches\n",
    "test_embeddings = []\n",
    "model.eval()  # Set the model to evaluation mode\n",
    "with torch.no_grad():\n",
    "    # Tokenize the batch of sentences at once\n",
    "    for text in post_lst:\n",
    "        inputs = tokenizer(text, padding=True, truncation=True, return_tensors=\"pt\")\n",
    "        outputs = model(**inputs)\n",
    "        # Get the [CLS] token embeddings for each sentence in the batch\n",
    "        cls_embeddings = outputs.last_hidden_state[:, 0, :].detach().cpu().numpy()\n",
    "        test_embeddings.extend(cls_embeddings)"
   ]
  },
  {
   "cell_type": "code",
   "execution_count": 22,
   "id": "f5284c84",
   "metadata": {},
   "outputs": [
    {
     "data": {
      "text/plain": [
       "63"
      ]
     },
     "execution_count": 22,
     "metadata": {},
     "output_type": "execute_result"
    }
   ],
   "source": [
    "len(test_embeddings)"
   ]
  },
  {
   "cell_type": "code",
   "execution_count": 25,
   "id": "95f9749a",
   "metadata": {},
   "outputs": [],
   "source": [
    "import torch\n",
    "import torch.nn as nn\n",
    "import torch.optim as optim\n",
    "\n",
    "class SentimentClassifier(nn.Module):\n",
    "    def __init__(self, input_dim, hidden_dim, output_dim):\n",
    "        super(SentimentClassifier, self).__init__()\n",
    "        self.fc1 = nn.Linear(input_dim, hidden_dim)\n",
    "        self.relu = nn.ReLU()\n",
    "        self.fc2 = nn.Linear(hidden_dim, output_dim)\n",
    "\n",
    "    def forward(self, x):\n",
    "        x = self.fc1(x)\n",
    "        x = self.relu(x)\n",
    "        x = self.fc2(x)\n",
    "        return x"
   ]
  },
  {
   "cell_type": "code",
   "execution_count": 26,
   "id": "f70261e0",
   "metadata": {},
   "outputs": [],
   "source": [
    "input_dim = 768  # From your embedding shape\n",
    "hidden_dim = 128  # Adjust as needed\n",
    "output_dim = 3  # Assuming 3 sentiment classes (-1, 0, 1)"
   ]
  },
  {
   "cell_type": "code",
   "execution_count": 27,
   "id": "cdf522d5",
   "metadata": {},
   "outputs": [
    {
     "data": {
      "text/plain": [
       "<All keys matched successfully>"
      ]
     },
     "execution_count": 27,
     "metadata": {},
     "output_type": "execute_result"
    }
   ],
   "source": [
    "model = SentimentClassifier(input_dim, hidden_dim, output_dim)  # Re-instantiate the model\n",
    "model.load_state_dict(torch.load(\"sentiment_model.pth\"))"
   ]
  },
  {
   "cell_type": "code",
   "execution_count": 29,
   "id": "0d8e2837",
   "metadata": {},
   "outputs": [
    {
     "name": "stderr",
     "output_type": "stream",
     "text": [
      "C:\\Users\\bibek\\AppData\\Local\\Temp\\ipykernel_10628\\314498568.py:2: UserWarning: Creating a tensor from a list of numpy.ndarrays is extremely slow. Please consider converting the list to a single numpy.ndarray with numpy.array() before converting to a tensor. (Triggered internally at ..\\torch\\csrc\\utils\\tensor_new.cpp:278.)\n",
      "  X_test = torch.tensor(test_embeddings, dtype=torch.float32)\n"
     ]
    }
   ],
   "source": [
    "# Convert `val_embeddings` to a PyTorch tensor\n",
    "X_test = torch.tensor(test_embeddings, dtype=torch.float32)"
   ]
  },
  {
   "cell_type": "code",
   "execution_count": 30,
   "id": "c264d14f",
   "metadata": {},
   "outputs": [],
   "source": [
    "# Make predictions\n",
    "with torch.no_grad():\n",
    "    outputs = model(X_test)\n",
    "    _, predicted = torch.max(outputs, 1)  # Get predicted class indices"
   ]
  },
  {
   "cell_type": "code",
   "execution_count": 34,
   "id": "e026fb86",
   "metadata": {},
   "outputs": [
    {
     "data": {
      "text/plain": [
       "tensor(0)"
      ]
     },
     "execution_count": 34,
     "metadata": {},
     "output_type": "execute_result"
    }
   ],
   "source": [
    "predicted[7]"
   ]
  },
  {
   "cell_type": "code",
   "execution_count": 35,
   "id": "f356261e",
   "metadata": {},
   "outputs": [
    {
     "data": {
      "text/plain": [
       "'dot feels like it s been abandoned does anyone here think it s strange that one of the co founders of eth one of the best coins out there the guy who made dot made such a shitty coin it honestly made it even worse when i saw vitalik buterin s portfolio and he doesn t even have a single dot coin even meme coins see more action than dot'"
      ]
     },
     "execution_count": 35,
     "metadata": {},
     "output_type": "execute_result"
    }
   ],
   "source": [
    "post_lst[7]"
   ]
  },
  {
   "cell_type": "code",
   "execution_count": 36,
   "id": "2517389d",
   "metadata": {},
   "outputs": [
    {
     "ename": "RuntimeError",
     "evalue": "mean(): could not infer output dtype. Input dtype must be either a floating point or complex dtype. Got: Long",
     "output_type": "error",
     "traceback": [
      "\u001b[1;31m---------------------------------------------------------------------------\u001b[0m",
      "\u001b[1;31mRuntimeError\u001b[0m                              Traceback (most recent call last)",
      "Cell \u001b[1;32mIn[36], line 1\u001b[0m\n\u001b[1;32m----> 1\u001b[0m torch\u001b[38;5;241m.\u001b[39mmean(predicted)\n",
      "\u001b[1;31mRuntimeError\u001b[0m: mean(): could not infer output dtype. Input dtype must be either a floating point or complex dtype. Got: Long"
     ]
    }
   ],
   "source": []
  },
  {
   "cell_type": "code",
   "execution_count": 44,
   "id": "d37f3b10",
   "metadata": {},
   "outputs": [
    {
     "data": {
      "text/plain": [
       "tensor([1, 1, 1, 1, 1, 1, 2, 0, 1, 0, 2, 1, 2, 0, 1, 2, 2, 0, 2, 0, 1, 1, 0, 1,\n",
       "        1, 1, 2, 0, 1, 0, 1, 0, 0, 2, 1, 2, 2, 2, 1, 2, 2, 2, 1, 2, 2, 1, 2, 2,\n",
       "        1, 2, 2, 1, 1, 0, 2, 2, 1, 2, 2, 2, 2, 2, 2])"
      ]
     },
     "execution_count": 44,
     "metadata": {},
     "output_type": "execute_result"
    }
   ],
   "source": []
  },
  {
   "cell_type": "code",
   "execution_count": null,
   "id": "cd1147f5",
   "metadata": {},
   "outputs": [],
   "source": []
  }
 ],
 "metadata": {
  "kernelspec": {
   "display_name": "Python 3 (ipykernel)",
   "language": "python",
   "name": "python3"
  },
  "language_info": {
   "codemirror_mode": {
    "name": "ipython",
    "version": 3
   },
   "file_extension": ".py",
   "mimetype": "text/x-python",
   "name": "python",
   "nbconvert_exporter": "python",
   "pygments_lexer": "ipython3",
   "version": "3.11.5"
  }
 },
 "nbformat": 4,
 "nbformat_minor": 5
}
